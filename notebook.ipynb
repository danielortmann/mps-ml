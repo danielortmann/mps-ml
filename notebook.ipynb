{
 "cells": [
  {
   "cell_type": "code",
   "execution_count": null,
   "metadata": {},
   "outputs": [],
   "source": [
    "import numpy as np"
   ]
  },
  {
   "cell_type": "code",
   "execution_count": null,
   "metadata": {},
   "outputs": [],
   "source": [
    "def load_data(fname):\n",
    "    data = np.loadtxt(fname, delimiter=',')\n",
    "    X, Y = data[:, 1:].reshape(-1, 28, 28), data[:, 0]\n",
    "    return X, Y"
   ]
  },
  {
   "cell_type": "code",
   "execution_count": null,
   "metadata": {},
   "outputs": [],
   "source": [
    "def mean_filter(x):\n",
    "    return x.reshape(14, 2, 14, 2).transpose(0, 2, 1, 3).mean(axis=(2, 3))\n",
    "\n",
    "\n",
    "def image_to_mps(x):\n",
    "    mps = []\n",
    "    for pixel in x.flatten():\n",
    "        \n",
    "        M = np.zeros([1, 2, 1], float)\n",
    "        M[0, 0, 0] = np.cos(np.pi/2*pixel/255)\n",
    "        M[0, 1, 0] = np.sin(np.pi/2*pixel/255)\n",
    "        mps.append(M)\n",
    "\n",
    "    return mps"
   ]
  },
  {
   "cell_type": "code",
   "execution_count": null,
   "metadata": {},
   "outputs": [],
   "source": [
    "def dsum(A, B):\n",
    "    d = A.shape[1]\n",
    "    assert d == B.shape[1]\n",
    "    \n",
    "    dsum = np.zeros((A.shape[0] + B.shape[0], d, A.shape[2] + B.shape[2]))\n",
    "    dsum[:A.shape[0], :, :A.shape[2]] = A\n",
    "    dsum[A.shape[0]:, :, A.shape[2]:] = B\n",
    "\n",
    "    return dsum\n",
    "\n",
    "\n",
    "def row(A, B):\n",
    "    assert A.shape[0] == B.shape[0] == 1\n",
    "    d = A.shape[1]\n",
    "    assert d == B.shape[1]\n",
    "    \n",
    "    row = np.zeros((1, d, A.shape[2] + B.shape[2]))\n",
    "    row[:, :, :A.shape[2]] = A\n",
    "    row[:, :, A.shape[2]:] = B\n",
    "\n",
    "    return row\n",
    "\n",
    "\n",
    "def col(A, B):\n",
    "    assert A.shape[2] == B.shape[2] == 1\n",
    "    d = A.shape[1]\n",
    "    assert d == B.shape[1]\n",
    "    \n",
    "    col = np.zeros((A.shape[0] + B.shape[0], d, 1))\n",
    "    col[:A.shape[0], :, :] = A\n",
    "    col[A.shape[0]:, :, :] = B\n",
    "\n",
    "    return col\n",
    "\n",
    "\n",
    "def add(mps_a, mps_b):\n",
    "    L = len(mps_a)\n",
    "    assert len(mps_b) == L\n",
    "    \n",
    "    mps = [row(mps_a[0], mps_b[0])] + [dsum(mps_a[i], mps_b[i]) for i in range(1, L - 1)] + [col(mps_a[L - 1], mps_b[L - 1])]\n",
    "\n",
    "    return mps"
   ]
  }
 ],
 "metadata": {
  "kernelspec": {
   "display_name": "cmb",
   "language": "python",
   "name": "python3"
  },
  "language_info": {
   "codemirror_mode": {
    "name": "ipython",
    "version": 3
   },
   "file_extension": ".py",
   "mimetype": "text/x-python",
   "name": "python",
   "nbconvert_exporter": "python",
   "pygments_lexer": "ipython3",
   "version": "3.10.11"
  },
  "orig_nbformat": 4
 },
 "nbformat": 4,
 "nbformat_minor": 2
}
