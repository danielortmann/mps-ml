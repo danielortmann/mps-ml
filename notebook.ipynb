{
 "cells": [
  {
   "cell_type": "code",
   "execution_count": 1,
   "metadata": {},
   "outputs": [],
   "source": [
    "import numpy as np"
   ]
  },
  {
   "cell_type": "code",
   "execution_count": 2,
   "metadata": {},
   "outputs": [],
   "source": [
    "def load_data(fname):\n",
    "    data = np.loadtxt(fname, delimiter=',')\n",
    "    X, Y = data[:, 1:].reshape(-1, 28, 28), data[:, 0]\n",
    "    return X, Y"
   ]
  },
  {
   "cell_type": "code",
   "execution_count": 3,
   "metadata": {},
   "outputs": [],
   "source": [
    "def mean_filter(x):\n",
    "    return x.reshape(14, 2, 14, 2).transpose(0, 2, 1, 3).mean(axis=(2, 3))\n",
    "\n",
    "\n",
    "def image_to_mps(x):\n",
    "    mps = []\n",
    "    for pixel in x.flatten():\n",
    "        \n",
    "        M = np.zeros([1, 2, 1], float)\n",
    "        M[0, 0, 0] = np.cos(np.pi/2*pixel/255)\n",
    "        M[0, 1, 0] = np.sin(np.pi/2*pixel/255)\n",
    "        mps.append(M)\n",
    "\n",
    "    return mps"
   ]
  },
  {
   "cell_type": "code",
   "execution_count": 4,
   "metadata": {},
   "outputs": [],
   "source": [
    "def dsum(A, B):\n",
    "    d = A.shape[1]\n",
    "    assert d == B.shape[1]\n",
    "    \n",
    "    dsum = np.zeros((A.shape[0] + B.shape[0], d, A.shape[2] + B.shape[2]))\n",
    "    dsum[:A.shape[0], :, :A.shape[2]] = A\n",
    "    dsum[A.shape[0]:, :, A.shape[2]:] = B\n",
    "\n",
    "    return dsum\n",
    "\n",
    "\n",
    "def row(A, B):\n",
    "    assert A.shape[0] == B.shape[0] == 1\n",
    "    d = A.shape[1]\n",
    "    assert d == B.shape[1]\n",
    "    \n",
    "    row = np.zeros((1, d, A.shape[2] + B.shape[2]))\n",
    "    row[:, :, :A.shape[2]] = A\n",
    "    row[:, :, A.shape[2]:] = B\n",
    "\n",
    "    return row\n",
    "\n",
    "\n",
    "def col(A, B):\n",
    "    assert A.shape[2] == B.shape[2] == 1\n",
    "    d = A.shape[1]\n",
    "    assert d == B.shape[1]\n",
    "    \n",
    "    col = np.zeros((A.shape[0] + B.shape[0], d, 1))\n",
    "    col[:A.shape[0], :, :] = A\n",
    "    col[A.shape[0]:, :, :] = B\n",
    "\n",
    "    return col\n",
    "\n",
    "\n",
    "def add(mps_a, mps_b):\n",
    "    L = len(mps_a)\n",
    "    assert len(mps_b) == L\n",
    "    \n",
    "    mps = [row(mps_a[0], mps_b[0])] + [dsum(mps_a[i], mps_b[i]) for i in range(1, L - 1)] + [col(mps_a[L - 1], mps_b[L - 1])]\n",
    "\n",
    "    return mps"
   ]
  },
  {
   "cell_type": "code",
   "execution_count": 5,
   "metadata": {},
   "outputs": [],
   "source": [
    "def inner_product(mps_a: list, mps_b: list):\n",
    "\n",
    "    L = len(mps_a)\n",
    "    assert L == len(mps_b)\n",
    "\n",
    "    t = np.tensordot(mps_b[0], mps_a[0].conj(), axes=[1, 1]) # vL [j] vR, vL* [j*] vR*\n",
    "    t = t.squeeze(axis=(0, 2))  # vR vR*\n",
    "\n",
    "    for n in range(1, L):\n",
    "\n",
    "        t = np.tensordot(t, mps_b[n], axes=[0, 0]) # [vR] vR*, [vL] j vR\n",
    "        t = np.tensordot(t, mps_a[n].conj(), axes=[[0, 1], [0, 1]]) # [vR*] [j] vR, [vL*] [j*] vR*\n",
    "\n",
    "    return t.item()"
   ]
  },
  {
   "cell_type": "code",
   "execution_count": 10,
   "metadata": {},
   "outputs": [],
   "source": [
    "def compress(mps, χ_max):\n",
    "    \n",
    "    L = len(mps)\n",
    "    mps = mps + [np.array([[[1]]])]\n",
    "    for n in range(L):\n",
    "        \n",
    "        # SVD and truncation\n",
    "        vL, d, vR = mps[n].shape\n",
    "        M = mps[n].reshape(vL*d, vR)\n",
    "        U, S, Vh = np.linalg.svd(M, full_matrices=False)\n",
    "        U, S, Vh = U[:, :χ_max], S[:χ_max], Vh[:χ_max, :]\n",
    "        χ = len(S)\n",
    "        mps[n] = U.reshape(vL, d, χ)\n",
    "\n",
    "        # absorb SVD tensors into next tensor\n",
    "        vL, d, vR = mps[n+1].shape\n",
    "        M = mps[n+1].reshape(vL, d*vR)\n",
    "        mps[n+1] = ((S[:, None] * Vh)@M).reshape(χ, d, vR)\n",
    "\n",
    "    norm = mps[-1]\n",
    "    mps = [M * norm**(1/L) for M in mps[:-1]]\n",
    "\n",
    "    return mps, norm"
   ]
  },
  {
   "cell_type": "code",
   "execution_count": 7,
   "metadata": {},
   "outputs": [],
   "source": [
    "X, Y = load_data('data/mnist_train.csv')\n",
    "X_test, Y_test = load_data('data/mnist_test.csv')"
   ]
  },
  {
   "cell_type": "code",
   "execution_count": 8,
   "metadata": {},
   "outputs": [],
   "source": [
    "digit = 2\n",
    "X_mps = [image_to_mps(mean_filter(x)) for x in X[Y == digit]]"
   ]
  },
  {
   "cell_type": "code",
   "execution_count": 11,
   "metadata": {},
   "outputs": [],
   "source": [
    "χ_max = 10\n",
    "Ψ = X_mps[0]\n",
    "for i, x_mps in enumerate(X_mps[1:]):\n",
    "    Ψ = add(Ψ, x_mps)\n",
    "    if i > χ_max - 2:\n",
    "        Ψ, norm = compress(Ψ, χ_max)\n",
    "    if i == len(X_mps)-1:\n",
    "        L = 196\n",
    "        Ψ / norm**(1/L)"
   ]
  },
  {
   "cell_type": "code",
   "execution_count": 17,
   "metadata": {},
   "outputs": [],
   "source": [
    "X_test_mps = list()\n",
    "for digit in range(10):\n",
    "    X_test_mps.append([image_to_mps(mean_filter(x)) for x in X_test[Y_test == digit]])"
   ]
  },
  {
   "cell_type": "code",
   "execution_count": 21,
   "metadata": {},
   "outputs": [
    {
     "name": "stdout",
     "output_type": "stream",
     "text": [
      "0\n",
      "1\n",
      "2\n",
      "3\n",
      "4\n",
      "5\n",
      "6\n",
      "7\n",
      "8\n",
      "9\n"
     ]
    }
   ],
   "source": [
    "mean_overlaps = []\n",
    "for digit in range(10):\n",
    " print(digit)\n",
    " mean_overlaps.append(np.mean([abs(inner_product(Ψ, x)) for x in X_test_mps[digit]]))"
   ]
  },
  {
   "cell_type": "code",
   "execution_count": 24,
   "metadata": {},
   "outputs": [
    {
     "name": "stdout",
     "output_type": "stream",
     "text": [
      "2.4262893272384197e-10\n",
      "2.977318722909857e-10\n",
      "8.198235687279568e-06\n",
      "3.177051687172096e-10\n",
      "1.5774381819483206e-10\n",
      "1.9570984332002365e-10\n",
      "2.4718265024979617e-11\n",
      "7.342532837739642e-10\n",
      "1.2636397427327328e-10\n",
      "1.9051323873635279e-10\n"
     ]
    }
   ],
   "source": [
    "for mean_overlap in mean_overlaps:\n",
    "    print(mean_overlap)"
   ]
  },
  {
   "cell_type": "code",
   "execution_count": 23,
   "metadata": {},
   "outputs": [
    {
     "data": {
      "text/plain": [
       "1.0012985714637612"
      ]
     },
     "execution_count": 23,
     "metadata": {},
     "output_type": "execute_result"
    }
   ],
   "source": [
    "inner_product(Ψ, Ψ)"
   ]
  },
  {
   "cell_type": "code",
   "execution_count": 25,
   "metadata": {},
   "outputs": [
    {
     "data": {
      "text/plain": [
       "(5958, 1032)"
      ]
     },
     "execution_count": 25,
     "metadata": {},
     "output_type": "execute_result"
    }
   ],
   "source": [
    "len(X[Y==2]), len(X_test[Y_test==2])"
   ]
  },
  {
   "cell_type": "code",
   "execution_count": null,
   "metadata": {},
   "outputs": [],
   "source": []
  }
 ],
 "metadata": {
  "kernelspec": {
   "display_name": "cmb",
   "language": "python",
   "name": "python3"
  },
  "language_info": {
   "codemirror_mode": {
    "name": "ipython",
    "version": 3
   },
   "file_extension": ".py",
   "mimetype": "text/x-python",
   "name": "python",
   "nbconvert_exporter": "python",
   "pygments_lexer": "ipython3",
   "version": "3.10.11"
  },
  "orig_nbformat": 4
 },
 "nbformat": 4,
 "nbformat_minor": 2
}
